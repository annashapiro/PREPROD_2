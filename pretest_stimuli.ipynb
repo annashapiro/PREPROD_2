{
 "cells": [
  {
   "cell_type": "code",
   "execution_count": 1,
   "id": "abb0fa61-598a-44ac-852b-233b7d6c1c3f",
   "metadata": {},
   "outputs": [],
   "source": [
    "import pandas as pd"
   ]
  },
  {
   "cell_type": "code",
   "execution_count": 2,
   "id": "5d5f2c7a-02db-4d5b-9287-9b78eda55018",
   "metadata": {},
   "outputs": [
    {
     "name": "stdout",
     "output_type": "stream",
     "text": [
      "   item correct_response      word\n",
      "0    56                F    chaise\n",
      "1    52                F     tasse\n",
      "2    14                F   guitare\n",
      "3   100                F     porte\n",
      "4    59                F  batterie\n"
     ]
    }
   ],
   "source": [
    "sheet_url = \"https://docs.google.com/spreadsheets/d/e/2PACX-1vTQXvyJkpLMMTKKn0cxDq9lG62jvwsy342m0fzlg5qJW_xjMCQDCMcfAH45M5sgMw/pubhtml\"\n",
    "\n",
    "df_list = pd.read_html(sheet_url, encoding='utf-8', header = 1, index_col = False)\n",
    "frenchB2 = df_list[0]\n",
    "frenchB2 = (\n",
    "    frenchB2\n",
    "    .drop(columns = ['1', 'Version', 'Sentence'])\n",
    "    .rename(columns={'Item': 'item', 'Noun': 'word', 'Article': 'correct_response'})\n",
    "    .replace({'correct_response': {'la': 'F', 'une': 'F', 'le': 'M', 'un': 'M'}})\n",
    ")\n",
    "\n",
    "print(frenchB2.head())"
   ]
  },
  {
   "cell_type": "code",
   "execution_count": 31,
   "id": "9a7f0475-1f76-4154-8ab3-5ed34e8c5ff3",
   "metadata": {},
   "outputs": [],
   "source": [
    "frenchB2.to_excel('FrenchB2.xlsx', index = False)"
   ]
  }
 ],
 "metadata": {
  "kernelspec": {
   "display_name": "Python 3 (ipykernel)",
   "language": "python",
   "name": "python3"
  },
  "language_info": {
   "codemirror_mode": {
    "name": "ipython",
    "version": 3
   },
   "file_extension": ".py",
   "mimetype": "text/x-python",
   "name": "python",
   "nbconvert_exporter": "python",
   "pygments_lexer": "ipython3",
   "version": "3.12.2"
  }
 },
 "nbformat": 4,
 "nbformat_minor": 5
}
