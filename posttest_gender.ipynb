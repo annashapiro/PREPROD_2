{
 "cells": [
  {
   "cell_type": "code",
   "execution_count": 9,
   "id": "7a9b4f76-3edb-44c1-8367-5c1632c7d520",
   "metadata": {},
   "outputs": [],
   "source": [
    "import pandas as pd\n",
    "import os\n",
    "from pathlib import Path\n",
    "import janitor as jn\n",
    "import warnings"
   ]
  },
  {
   "cell_type": "markdown",
   "id": "4443515a-0add-4f32-b2ed-5737774b612c",
   "metadata": {},
   "source": [
    "# Grammatical gender post-test"
   ]
  },
  {
   "cell_type": "code",
   "execution_count": 10,
   "id": "56afa0a3-01af-4ff4-8cad-aba52390681d",
   "metadata": {},
   "outputs": [],
   "source": [
    "warnings.filterwarnings('ignore')\n",
    "# This turns off all warnings but aiming specifically at the Chained Assignment warning, because to my best knowledge the code should still work under pandas 3.0\n",
    "# If it is not the case, remove this line of code to find out more"
   ]
  },
  {
   "cell_type": "markdown",
   "id": "e58bb178-8967-4b19-9bd0-f2fdacdf8844",
   "metadata": {},
   "source": [
    "## Function to recode cumulative button press responses"
   ]
  },
  {
   "cell_type": "code",
   "execution_count": 5,
   "id": "61e82de6-899c-4c0b-804b-aef4b9081b9c",
   "metadata": {},
   "outputs": [],
   "source": [
    "def custom_diff(df, columns):\n",
    "\n",
    "    for column in columns:\n",
    "        # Prepare new column names\n",
    "        new_column_name = column.replace('button_', '').replace('numClicks', 'numClicksDiff')\n",
    "        # Initialize new column with zeros\n",
    "        df[new_column_name] = 0\n",
    "\n",
    "        for i in range(len(df)):\n",
    "            if i == 0:\n",
    "                # Keep first value unchanged...\n",
    "                df[new_column_name].iloc[i] = df[column].iloc[i]\n",
    "            elif df[column].iloc[i] == 0:\n",
    "                # ... as well as any 0's - we want only differences if count of button presses increases\n",
    "                df[new_column_name].iloc[i] = df[column].iloc[i]\n",
    "            else:\n",
    "                # For all other values, calculate the difference to previous row\n",
    "                df[new_column_name].iloc[i] = df[column].iloc[i] - df[column].iloc[i-1]\n",
    "                \n",
    "    return df"
   ]
  },
  {
   "cell_type": "code",
   "execution_count": 13,
   "id": "e279f9d5-f2c8-46aa-8852-aa5695067e4e",
   "metadata": {},
   "outputs": [],
   "source": [
    "# Set path - this should contain all files to be analyzed\n",
    "# Can be from multiple participants (4+ files), or from one, which will be 4 files (2 blocks x 2 sessions)\n",
    "# Output will be in 1:1 ratio (for each input file, one output file)\n",
    "\n",
    "inputdir = \"C:/Users/annas/OneDrive/Desktop/BCBL/Preprod_2 (Jupyter)/data/ggender\"\n",
    "\n",
    "# Create list of files\n",
    "all_filepaths = list(Path(inputdir).rglob(\"*.csv\"))"
   ]
  },
  {
   "cell_type": "code",
   "execution_count": 14,
   "id": "66ccc72d-87aa-4da5-af68-cbfdcdd46325",
   "metadata": {},
   "outputs": [
    {
     "name": "stdout",
     "output_type": "stream",
     "text": [
      "Processing file: C:\\Users\\annas\\OneDrive\\Desktop\\BCBL\\Preprod_2 (Jupyter)\\data\\ggender\\4849_French_2.csv\n",
      "Processing file: C:\\Users\\annas\\OneDrive\\Desktop\\BCBL\\Preprod_2 (Jupyter)\\data\\ggender\\4849_Spanish_2.csv\n"
     ]
    }
   ],
   "source": [
    "for filepath in all_filepaths:\n",
    "    # Read the Excel file\n",
    "    # Drop column with instructions as it will throw a tokenizing error with sep = comma\n",
    "    # i.e instructions contain a comma, so the reader will attempt to split the data in more columns than exist for the rest of data\n",
    "    df = pd.read_csv(filepath)\n",
    "\n",
    "    # Drop practice trials\n",
    "    df = df[df['item'].apply(lambda x: pd.notna(x))]\n",
    "\n",
    "    #Re-code button responses (change cumulative to regular binary)\n",
    "    df = custom_diff(df, ['button_femenine.numClicks', 'button_masculine.numClicks', 'button_idontknow.numClicks'])\n",
    "\n",
    "    # Re-code button response into one column\n",
    "    df['button_response'] = df.apply(lambda x: 'F' if (x['femenine.numClicksDiff'] == 1)\n",
    "                                      else 'M' if (x['masculine.numClicksDiff'] == 1)\n",
    "                                      else 'Idk', axis=1)\n",
    "\n",
    "    # Determine response\n",
    "    df['response'] = df.apply(lambda x: 'NaN' if (pd.isna(x['correct_response']))\n",
    "                                      else 'Correct' if (x['femenine.numClicksDiff'] == 1 and x['correct_response'] == \"F\")\n",
    "                                      else 'Correct' if (x['masculine.numClicksDiff'] == 1 and x['correct_response'] == \"M\")\n",
    "                                      else 'Incorrect', axis=1)\n",
    "\n",
    "    # Sanity check in case of an error, to know which file was last successfully processed\n",
    "    print(\"Processing file:\", filepath)\n",
    "    \n",
    "    # Select columns of interest\n",
    "    df = df.loc[:, ['Subject ID', 'Language', 'List', 'item', 'correct_response', 'button_response', 'response']]\n",
    "    \n",
    "    # Get original file name\n",
    "    excel_file_name = os.path.splitext(os.path.basename(filepath))[0]\n",
    "    \n",
    "    # Concatenate it with _compquest to name the output and save as Excel shet\n",
    "    df.to_excel(f'{excel_file_name}_ggender.xlsx', index = False)"
   ]
  }
 ],
 "metadata": {
  "kernelspec": {
   "display_name": "Python 3 (ipykernel)",
   "language": "python",
   "name": "python3"
  },
  "language_info": {
   "codemirror_mode": {
    "name": "ipython",
    "version": 3
   },
   "file_extension": ".py",
   "mimetype": "text/x-python",
   "name": "python",
   "nbconvert_exporter": "python",
   "pygments_lexer": "ipython3",
   "version": "3.12.2"
  }
 },
 "nbformat": 4,
 "nbformat_minor": 5
}
