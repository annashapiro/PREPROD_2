{
 "cells": [
  {
   "cell_type": "code",
   "execution_count": 60,
   "id": "7a9b4f76-3edb-44c1-8367-5c1632c7d520",
   "metadata": {},
   "outputs": [],
   "source": [
    "import pandas as pd\n",
    "import os\n",
    "from pathlib import Path\n",
    "import janitor as jn"
   ]
  },
  {
   "cell_type": "code",
   "execution_count": 98,
   "id": "e279f9d5-f2c8-46aa-8852-aa5695067e4e",
   "metadata": {},
   "outputs": [],
   "source": [
    "# Set path\n",
    "inputdir = \"C:/Users/annas/OneDrive/Desktop/BCBL/psychopy/data\"\n",
    "\n",
    "# Create list of files: Spanish\n",
    "spanish_filepaths = list(Path(inputdir).rglob(\"*Spanish*.csv\"))\n",
    "\n",
    "# Create list of files: French\n",
    "french_filepaths = list(Path(inputdir).rglob(\"*French*.csv\"))\n",
    "\n",
    "# Create list of files: All\n",
    "all_filepaths = list(Path(inputdir).rglob(\"*.csv\"))\n",
    "\n",
    "# Initialize an empty list to store dataframes\n",
    "df_list = []"
   ]
  },
  {
   "cell_type": "code",
   "execution_count": 99,
   "id": "66ccc72d-87aa-4da5-af68-cbfdcdd46325",
   "metadata": {},
   "outputs": [
    {
     "name": "stderr",
     "output_type": "stream",
     "text": [
      "C:\\Users\\annas\\miniconda3\\Lib\\site-packages\\pandas_flavor\\register.py:157: FutureWarning: This function will be deprecated in a 1.x release. Please use `pd.Series.case_when` instead.\n",
      "  return method(self._obj, *args, **kwargs)\n",
      "C:\\Users\\annas\\miniconda3\\Lib\\site-packages\\pandas_flavor\\register.py:157: DeprecationWarning: The last argument in the variable arguments has been assigned as the default. Note however that this will be deprecated in a future release; use an even number of boolean conditions and values, and pass the default argument to the `default` parameter instead.\n",
      "  return method(self._obj, *args, **kwargs)\n"
     ]
    }
   ],
   "source": [
    "for filepath in spanish_filepaths:\n",
    "    # Read the Excel file\n",
    "    df = pd.read_csv(filepath)\n",
    "\n",
    "    # Drop rows that contain only NaN values as well as practice trials\n",
    "    df = df[df['item'].notna()]\n",
    "\n",
    "    # Determine response\n",
    "    df = df.case_when(\n",
    "        (df.correct_response.eq('M') & df['button_masculine.numClicks'].eq(1)), 'Correct', \n",
    "        (df.correct_response.eq('F') & df['button_femenine.numClicks'].eq(1)), 'Correct',\n",
    "        'Incorrect',\n",
    "        column_name = 'Response'\n",
    "    )\n",
    "    \n",
    "    # Select columns of interest\n",
    "    df = df[['Subject ID', 'Language', 'List', 'word', 'item', 'Response']]\n",
    "    \n",
    "    # Append the dataframe to the list\n",
    "    df_list.append(df)\n",
    "\n",
    "# Combine all dataframes in the list into one dataframe\n",
    "merged_sp = pd.concat(df_list, ignore_index=True)"
   ]
  }
 ],
 "metadata": {
  "kernelspec": {
   "display_name": "Python 3 (ipykernel)",
   "language": "python",
   "name": "python3"
  },
  "language_info": {
   "codemirror_mode": {
    "name": "ipython",
    "version": 3
   },
   "file_extension": ".py",
   "mimetype": "text/x-python",
   "name": "python",
   "nbconvert_exporter": "python",
   "pygments_lexer": "ipython3",
   "version": "3.12.2"
  }
 },
 "nbformat": 4,
 "nbformat_minor": 5
}
